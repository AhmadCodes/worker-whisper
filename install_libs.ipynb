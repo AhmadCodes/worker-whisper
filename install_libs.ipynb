{
 "cells": [
  {
   "cell_type": "code",
   "execution_count": null,
   "metadata": {},
   "outputs": [],
   "source": []
  },
  {
   "cell_type": "code",
   "execution_count": 1,
   "metadata": {},
   "outputs": [
    {
     "name": "stdout",
     "output_type": "stream",
     "text": [
      "Requirement already satisfied: faster-whisper==0.9.0 in /root/miniconda3/envs/app/lib/python3.10/site-packages (0.9.0)\n",
      "Requirement already satisfied: av==10.* in /root/miniconda3/envs/app/lib/python3.10/site-packages (from faster-whisper==0.9.0) (10.0.0)\n",
      "Requirement already satisfied: ctranslate2<4,>=3.17 in /root/miniconda3/envs/app/lib/python3.10/site-packages (from faster-whisper==0.9.0) (3.23.0)\n",
      "Requirement already satisfied: huggingface-hub>=0.13 in /root/miniconda3/envs/app/lib/python3.10/site-packages (from faster-whisper==0.9.0) (0.19.4)\n",
      "Requirement already satisfied: tokenizers<0.15,>=0.13 in /root/miniconda3/envs/app/lib/python3.10/site-packages (from faster-whisper==0.9.0) (0.13.3)\n",
      "Requirement already satisfied: onnxruntime<2,>=1.14 in /root/miniconda3/envs/app/lib/python3.10/site-packages (from faster-whisper==0.9.0) (1.16.3)\n",
      "Requirement already satisfied: setuptools in /root/miniconda3/envs/app/lib/python3.10/site-packages (from ctranslate2<4,>=3.17->faster-whisper==0.9.0) (68.2.2)\n",
      "Requirement already satisfied: numpy in /root/miniconda3/envs/app/lib/python3.10/site-packages (from ctranslate2<4,>=3.17->faster-whisper==0.9.0) (1.23.5)\n",
      "Requirement already satisfied: pyyaml<7,>=5.3 in /root/miniconda3/envs/app/lib/python3.10/site-packages (from ctranslate2<4,>=3.17->faster-whisper==0.9.0) (6.0.1)\n",
      "Requirement already satisfied: filelock in /root/miniconda3/envs/app/lib/python3.10/site-packages (from huggingface-hub>=0.13->faster-whisper==0.9.0) (3.13.1)\n",
      "Requirement already satisfied: fsspec>=2023.5.0 in /root/miniconda3/envs/app/lib/python3.10/site-packages (from huggingface-hub>=0.13->faster-whisper==0.9.0) (2023.12.2)\n",
      "Requirement already satisfied: requests in /root/miniconda3/envs/app/lib/python3.10/site-packages (from huggingface-hub>=0.13->faster-whisper==0.9.0) (2.31.0)\n",
      "Requirement already satisfied: tqdm>=4.42.1 in /root/miniconda3/envs/app/lib/python3.10/site-packages (from huggingface-hub>=0.13->faster-whisper==0.9.0) (4.64.1)\n",
      "Requirement already satisfied: typing-extensions>=3.7.4.3 in /root/miniconda3/envs/app/lib/python3.10/site-packages (from huggingface-hub>=0.13->faster-whisper==0.9.0) (4.9.0)\n",
      "Requirement already satisfied: packaging>=20.9 in /root/miniconda3/envs/app/lib/python3.10/site-packages (from huggingface-hub>=0.13->faster-whisper==0.9.0) (23.2)\n",
      "Requirement already satisfied: coloredlogs in /root/miniconda3/envs/app/lib/python3.10/site-packages (from onnxruntime<2,>=1.14->faster-whisper==0.9.0) (15.0.1)\n",
      "Requirement already satisfied: flatbuffers in /root/miniconda3/envs/app/lib/python3.10/site-packages (from onnxruntime<2,>=1.14->faster-whisper==0.9.0) (23.5.26)\n",
      "Requirement already satisfied: protobuf in /root/miniconda3/envs/app/lib/python3.10/site-packages (from onnxruntime<2,>=1.14->faster-whisper==0.9.0) (4.25.1)\n",
      "Requirement already satisfied: sympy in /root/miniconda3/envs/app/lib/python3.10/site-packages (from onnxruntime<2,>=1.14->faster-whisper==0.9.0) (1.12)\n",
      "Requirement already satisfied: humanfriendly>=9.1 in /root/miniconda3/envs/app/lib/python3.10/site-packages (from coloredlogs->onnxruntime<2,>=1.14->faster-whisper==0.9.0) (10.0)\n",
      "Requirement already satisfied: charset-normalizer<4,>=2 in /root/miniconda3/envs/app/lib/python3.10/site-packages (from requests->huggingface-hub>=0.13->faster-whisper==0.9.0) (3.3.2)\n",
      "Requirement already satisfied: idna<4,>=2.5 in /root/miniconda3/envs/app/lib/python3.10/site-packages (from requests->huggingface-hub>=0.13->faster-whisper==0.9.0) (3.6)\n",
      "Requirement already satisfied: urllib3<3,>=1.21.1 in /root/miniconda3/envs/app/lib/python3.10/site-packages (from requests->huggingface-hub>=0.13->faster-whisper==0.9.0) (2.0.7)\n",
      "Requirement already satisfied: certifi>=2017.4.17 in /root/miniconda3/envs/app/lib/python3.10/site-packages (from requests->huggingface-hub>=0.13->faster-whisper==0.9.0) (2023.11.17)\n",
      "Requirement already satisfied: mpmath>=0.19 in /root/miniconda3/envs/app/lib/python3.10/site-packages (from sympy->onnxruntime<2,>=1.14->faster-whisper==0.9.0) (1.3.0)\n",
      "\u001b[33mWARNING: Running pip as the 'root' user can result in broken permissions and conflicting behaviour with the system package manager. It is recommended to use a virtual environment instead: https://pip.pypa.io/warnings/venv\u001b[0m\u001b[33m\n",
      "\u001b[0mRequirement already satisfied: ffmpeg-python==0.2.0 in /root/miniconda3/envs/app/lib/python3.10/site-packages (0.2.0)\n",
      "Requirement already satisfied: future in /root/miniconda3/envs/app/lib/python3.10/site-packages (from ffmpeg-python==0.2.0) (0.18.3)\n",
      "\u001b[33mWARNING: Running pip as the 'root' user can result in broken permissions and conflicting behaviour with the system package manager. It is recommended to use a virtual environment instead: https://pip.pypa.io/warnings/venv\u001b[0m\u001b[33m\n",
      "\u001b[0m\u001b[33mWARNING: Running pip as the 'root' user can result in broken permissions and conflicting behaviour with the system package manager. It is recommended to use a virtual environment instead: https://pip.pypa.io/warnings/venv\u001b[0m\u001b[33m\n",
      "\u001b[0m\u001b[33mWARNING: Running pip as the 'root' user can result in broken permissions and conflicting behaviour with the system package manager. It is recommended to use a virtual environment instead: https://pip.pypa.io/warnings/venv\u001b[0m\u001b[33m\n",
      "\u001b[0m\u001b[33mWARNING: Running pip as the 'root' user can result in broken permissions and conflicting behaviour with the system package manager. It is recommended to use a virtual environment instead: https://pip.pypa.io/warnings/venv\u001b[0m\u001b[33m\n",
      "\u001b[0m\u001b[33mWARNING: Running pip as the 'root' user can result in broken permissions and conflicting behaviour with the system package manager. It is recommended to use a virtual environment instead: https://pip.pypa.io/warnings/venv\u001b[0m\u001b[33m\n",
      "\u001b[0m\u001b[1;31mE: \u001b[0mUnable to locate package imagemagick\u001b[0m\n",
      "/bin/bash: line 1: /etc/ImageMagick-6/policy.xml: No such file or directory\n",
      "cat: /etc/ImageMagick-6/policy.xml: No such file or directory\n"
     ]
    }
   ],
   "source": [
    "!pip install faster-whisper==0.9.0\n",
    "!pip install ffmpeg-python==0.2.0\n",
    "!pip install --quiet segmind==0.2.3\n",
    "!pip install --quiet ipyplot\n",
    "!pip install --quiet git+https://github.com/Zulko/moviepy.git@bc8d1a831d2d1f61abfdf1779e8df95d523947a5\n",
    "!pip install --quiet imageio==2.25.1\n",
    "!apt install -qq imagemagick\n",
    "!cat /etc/ImageMagick-6/policy.xml | sed 's/none/read,write/g'> /etc/ImageMagick-6/policy.xml"
   ]
  },
  {
   "cell_type": "code",
   "execution_count": null,
   "metadata": {},
   "outputs": [],
   "source": []
  }
 ],
 "metadata": {
  "kernelspec": {
   "display_name": "app",
   "language": "python",
   "name": "python3"
  },
  "language_info": {
   "codemirror_mode": {
    "name": "ipython",
    "version": 3
   },
   "file_extension": ".py",
   "mimetype": "text/x-python",
   "name": "python",
   "nbconvert_exporter": "python",
   "pygments_lexer": "ipython3",
   "version": "3.10.13"
  }
 },
 "nbformat": 4,
 "nbformat_minor": 2
}
